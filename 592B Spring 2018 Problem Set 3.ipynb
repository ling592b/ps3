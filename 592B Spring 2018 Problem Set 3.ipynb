{
 "cells": [
  {
   "cell_type": "code",
   "execution_count": 48,
   "metadata": {
    "collapsed": true
   },
   "outputs": [],
   "source": [
    "%matplotlib inline"
   ]
  },
  {
   "cell_type": "markdown",
   "metadata": {},
   "source": [
    "# 592B Spring 2018 Problem Set 3 due Thurs 02/22 11.59PM"
   ]
  },
  {
   "cell_type": "code",
   "execution_count": 49,
   "metadata": {
    "collapsed": true
   },
   "outputs": [],
   "source": [
    "import numpy as np\n",
    "import matplotlib.pyplot as plt\n",
    "import scipy.io.wavfile as wavfile \n",
    "import librosa\n",
    "\n",
    "from ipywidgets import interactive\n",
    "from IPython.display import Audio, display"
   ]
  },
  {
   "cell_type": "markdown",
   "metadata": {},
   "source": [
    "## Problem 1: Period of a complex wave\n",
    "\n",
    "Suppose you have a complex wave built up from the following component waves:\n",
    "\n",
    "$$\\cos(3\\pi t)$$\n",
    "$$\\sin(11\\pi t)$$\n",
    "$$\\cos(15\\pi t)$$\n",
    "$$\\sin(26\\pi t)$$\n",
    "\n",
    "\n",
    "1. What is the period of each of the component waves (assume $t$ is in seconds)?\n",
    "2. What is the frequency of each of the component waves?\n",
    "3. What is the period and frequency of the complex wave?\n",
    "4. How many cycles of each of the component waves occur in a single cycle of the complex wave?\n",
    "5. Check your answer to (3) by plotting the complex wave and visually determining the period. Show your work.\n"
   ]
  },
  {
   "cell_type": "markdown",
   "metadata": {},
   "source": [
    "## Problem 2: Sampling and the Nyquist rate for a complex wave\n",
    "\n",
    "Consider the complex wave defined in Problem 1.\n",
    "\n",
    "1. What is the Nyquist rate for the complex wave, and how did you determine this?\n",
    "2. Sample the complex wave at a sampling rate above the Nyquist rate and plot the result. Do the same for each of the component waves. You may show this all in plot or in separate plots, whichever makes it easiest for you to understand what is happening. Use your plots to show how sampling at this sampling rate allows you to recover the original signal.\n",
    "3. Sample the complex wave at a sampling rate below the Nyquist rate. Do the same for each of the component waves. You may show this all in plot or in separate plots, whichever makes it easiest for you to understand what is happening. Use your plots to show how sampling at this sampling rate does not allow you to recover the original signal.\n"
   ]
  },
  {
   "cell_type": "markdown",
   "metadata": {},
   "source": [
    "## Problem 3: Sampling and the Nyquist rate for a simple sinusoid\n",
    "\n",
    "Consider a pure tone signal $f(t)$ that is a cosine wave with a frequency of 440 Hz (this is the musical note \"A\" that is often used to tune orchestras.) \n",
    "\n",
    "1. Write the mathematical definition of $f(t)$.\n",
    "2. What is the Nyquist rate for $f(t)$?\n",
    "3. Define $f(t)$ as a signal with a duration of 3s sampled at: (a) a sampling rate 50 Hz above the Nyquist rate, and (b) a sampling rate 50 Hz below the Nyquist rate, and plot the sampled signals. Describe how they are different.\n",
    "4. Now take the spectrum of each of the two sampled signals and explain how the spectra show that you recover an aliased signal only for your signal sampled below the Nyquist rate. Note: we have not gone through how to compute spectra in python. Part of the point of this question is to give you guided practice in figuring out how to do things for yourself. You might not understand the math behind what's going on (yet!), but you should be able to figure out the python code you need to use to do this. Hint: you might take a look at the posts [here](https://stackoverflow.com/questions/15382076/plotting-power-spectrum-in-python) and [here](https://stackoverflow.com/questions/37636017/what-is-the-proper-way-to-plot-spectrum-of-a-complex-signal-sampled-in-a-narrow).\n",
    "5. Use `librosa` to resample the signal at the sampling rates you chose in part 3 of this question and use `Audio` to play the resampled signals. Do they sound different? Do they sound as you expect given your spectra?\n"
   ]
  }
 ],
 "metadata": {
  "kernelspec": {
   "display_name": "Python 3",
   "language": "python",
   "name": "python3"
  },
  "language_info": {
   "codemirror_mode": {
    "name": "ipython",
    "version": 3
   },
   "file_extension": ".py",
   "mimetype": "text/x-python",
   "name": "python",
   "nbconvert_exporter": "python",
   "pygments_lexer": "ipython3",
   "version": "3.6.3"
  }
 },
 "nbformat": 4,
 "nbformat_minor": 2
}
